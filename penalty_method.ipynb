{
 "cells": [
  {
   "cell_type": "code",
   "execution_count": 2,
   "id": "16929c18-8917-499b-b35f-a7030dc1dda2",
   "metadata": {},
   "outputs": [],
   "source": [
    "import autograd.numpy as np  # Thinly-wrapped numpy\n",
    "import autograd as ag\n",
    "from scipy.optimize import minimize\n",
    "import matplotlib.pyplot as plt\n",
    "\n",
    "# Run random_quadratic_form.ipynb to obtain random generator functions\n",
    "%run random_quadratic_form.ipynb"
   ]
  },
  {
   "cell_type": "markdown",
   "id": "42dcbe0e-52bd-45d2-8e2e-b5c7c9748af8",
   "metadata": {},
   "source": [
    "## Penalty method\n",
    "Let us consider $C$ be a convex and closed set. \n",
    "We want to solve the problem:\n",
    "$$\n",
    "(1) \\ \\ \\min_{h(y)\\in C}\\frac{1}{2}|| x-y||^2 \n",
    "$$\n",
    "which is equivalent to\n",
    "$$\n",
    "\\min\\frac{1}{2}\\Vert x-y\\Vert^2+I_C(h(y)).\n",
    "$$\n",
    "to find approximately $y^{*} = proj_{h^{-1}(C)}(x)$"
   ]
  },
  {
   "cell_type": "markdown",
   "id": "6931166b-7002-4dc3-97fe-8dee9c384772",
   "metadata": {},
   "source": [
    "A first attempt would be to consider the composite problem:\n",
    "$$\n",
    "\\min_{y\\in \\mathcal{H}}\\frac{1}{2}\\Vert x-y\\Vert^2+\\frac{1}{2\\gamma}d_{C}^2(h(y)),\n",
    "$$\n",
    "when $\\gamma$ goes to $0$. In fact, if $y_\\gamma$ solves the composite problem then one has\n",
    "\\begin{equation*}\n",
    "    \\|x-y_\\gamma\\|^2 + \\frac{1}{\\gamma}d_{C}^2(h(y_\\gamma))\\leq d_{h^{-1}(C)}^2(x)\n",
    "\\end{equation*}\n",
    "So, the cluster points of $(y_\\gamma)$ are minimizers of (1), then if (1) has only one solution, then $(y_\\gamma)$ converges to it since it is bounded."
   ]
  },
  {
   "cell_type": "markdown",
   "id": "9e8382d1-8f0e-4b00-9321-1c3030f1fa82",
   "metadata": {},
   "source": [
    "### Approach 1\n",
    "We consider\n",
    "$$\n",
    "F_k(y):=\\frac{1}{2}||x-y||^2+\\frac{1}{2\\gamma_k}d_C^2(h(y)),\n",
    "$$\n",
    "where $\\gamma_k$ goes to zero and \n",
    "$$\n",
    "\\nabla F_k(y)=y-x+\\frac{1}{\\gamma_k}Dh(y)^{*}(h(y)-\\operatorname{proj}_C(h(y))).\n",
    "$$\n",
    "We propose the following algorithm (variable smoothing):\n",
    "$$\n",
    "y_{k+1}=y_k-\\lambda_k \\nabla F_k(y_k).\n",
    "$$"
   ]
  },
  {
   "cell_type": "markdown",
   "id": "a2d0d59d-f920-4fe5-9682-b950862b4e5e",
   "metadata": {},
   "source": [
    "**Observation:** If $C = \\mathbb{R}_{-}^{m}:= \\{x \\in R^{m}: x_{i} \\leq 0 \\ \\forall i= 1 ,\\cdots, m\\}$, then $C$ is closed and convex, moreover, if we define for a given $x \\in \\mathbb{R}^{m}$\n",
    "$$[x]_{+} = (\\max(0,x_i))_{i=1}^{m}$$\n",
    "$$[x]_{-} = (\\min(0,x_i))_{i=1}^{m}$$\n",
    "then we observe that \n",
    "$$\\operatorname{proj}_{\\mathbb{R}_{-}^{m}} (x) = [x]_{-}$$\n",
    "\n",
    "And so the algorithm in this goes to the form\n",
    "\n",
    "$$\n",
    "\\nabla F_k(y)=y-x+\\frac{1}{\\gamma_k}Dh(y)^{*}(h(y)-[h(y)]_{-})\n",
    "$$\n",
    "$$\n",
    "y_{k+1}=y_k-\\lambda_k \\nabla F_k(y_k).\n",
    "$$\n",
    "\n",
    "Observe that\n",
    "\n",
    "$$h(y)-[h(y)]_{-} = [h(y)]_{+}$$\n",
    "\n",
    "Because if $h_{i}(y) > 0$, then $[h_{i}(y)]_{-} = 0$ and so $h_{i}(y)-[h_{i}(y)]_{-} = h_{i}(y) > 0$ and if $h_{i}(y) < 0$, then $[h_{i}(y)]_{-} = h_{i}(y) < 0$ and so $h_{i}(y)-[h_{i}(y)]_{-} = 0$\n",
    "\n",
    "So we have\n",
    "\n",
    "$$\n",
    "\\nabla F_k(y)=y-x+\\frac{1}{\\gamma_k}Dh(y)^{*}([h(y)]_{+})\n",
    "$$\n",
    "$$\n",
    "y_{k+1}=y_k-\\lambda_k \\nabla F_k(y_k).\n",
    "$$\n",
    "\n",
    "where $Dh(y)^{*} \\in \\mathbb{R}^{n \\times m}$ is the transpose of the jacobian matrix of $h$ at $y$"
   ]
  },
  {
   "cell_type": "markdown",
   "id": "1c34b231-70df-4e80-8695-dbbf78c42da8",
   "metadata": {},
   "source": [
    "### Case C = $\\mathbb{R}_{-}^{m}$"
   ]
  },
  {
   "cell_type": "markdown",
   "id": "1e10c881-9554-4951-91d8-e243db048024",
   "metadata": {},
   "source": [
    "### Auxiliary functions"
   ]
  },
  {
   "cell_type": "markdown",
   "id": "ebc8a9fb-9491-4389-9bd4-f9317d2cc628",
   "metadata": {},
   "source": [
    "#### - Function: $[x]_{+}$"
   ]
  },
  {
   "cell_type": "code",
   "execution_count": 2,
   "id": "e457f0c4-ee32-4ce6-b289-63666d0f8d8d",
   "metadata": {
    "tags": []
   },
   "outputs": [],
   "source": [
    "# Function [x]_{+} \n",
    "def positive_part(x):\n",
    "    \"\"\" \n",
    "    **Computes the positive part of the input array x.**\n",
    "    \n",
    "    Parameters:\n",
    "    - x (array): Input array.\n",
    "\n",
    "    Returns:\n",
    "    - array: Output array with positive parts of array x. \n",
    "    \"\"\"\n",
    "    return np.maximum(0, x)"
   ]
  },
  {
   "cell_type": "markdown",
   "id": "125ef91a-dd38-4875-a0cd-9105fb21cf7d",
   "metadata": {},
   "source": [
    "#### - Function $\\nabla F_k(y) = y-x+\\frac{1}{\\gamma_k}Dh(y)^{*}([h(y)]_{+})$"
   ]
  },
  {
   "cell_type": "code",
   "execution_count": 3,
   "id": "74d86e30-aa3a-4096-8c89-9fe7e61ddc26",
   "metadata": {
    "tags": []
   },
   "outputs": [],
   "source": [
    "# Function gradF_k\n",
    "def gradF_k(y ,x , h, gamma_k):\n",
    "    Dh = ag.jacobian(h)\n",
    "    return y - x + (1.0 / gamma_k) * (Dh(y).T @ positive_part(h(y)))"
   ]
  },
  {
   "cell_type": "markdown",
   "id": "c17c5f49-218d-4414-9667-8505540ccf70",
   "metadata": {},
   "source": [
    "### Algorithm: Approach 1 for $C = \\mathbb{R}_{-}^m$"
   ]
  },
  {
   "cell_type": "code",
   "execution_count": 4,
   "id": "b5f84846-0095-4b2c-bbe1-e1a20f4db8da",
   "metadata": {
    "tags": []
   },
   "outputs": [],
   "source": [
    "# Algorithm: Approach 1 for C = R_{-}^m\n",
    "\n",
    "def AlgorithmApproach1(x, y_0, h, gamma, lamb, eps):\n",
    "    \"\"\" \n",
    "    **Perform Approach 1 for solving the optimization problem C = R_{-}^m.**\n",
    "\n",
    "    Parameters:\n",
    "    - x (array): Input data for the optimization problem, we expect x to be projected onto h^{-1}(C).\n",
    "    - y_0 (array): Initial guess for the optimization variable.\n",
    "    - h (function): Function to evaluate the optimization variable h(y) \\in C, must have input an n-dimensional numpy array with output an m-dimensional numpy array.\n",
    "    - gamma (function): Function to calculate the gamma parameter.\n",
    "    - lambda (function): Function to calculate the lambda parameter.\n",
    "    - eps (float): Tolerance for stopping the optimization.\n",
    "\n",
    "    Returns:\n",
    "    - y_optimal (array): Optimized variable that minimizes the objective function.\n",
    "    - y_values (list): Sequence of optimized variables throughout the iterations.\n",
    "    \"\"\"\n",
    "    \n",
    "    # Initial iteration\n",
    "    k = 0\n",
    "    convergenceCondition = True\n",
    "    y_k_plus = y_0 - lamb(k)*gradF_k(y_0, x, h, gamma(k))\n",
    "    \n",
    "    # List to construct sequence (y_n)\n",
    "    y_values = [y_0]\n",
    "    y_values.append(y_k_plus)\n",
    "    \n",
    "    # Start iterating the algorithm\n",
    "    while convergenceCondition: \n",
    "        # Update the iteration counter\n",
    "        k += 1\n",
    "        \n",
    "        # Update y_{k} = y_{k+1} and \\gamma_k in reach iteration\n",
    "        y_k = y_k_plus\n",
    "        \n",
    "        # Compute y_{k+1} = y_{k} - \\lambda_{k} \\grad F_{k}\n",
    "        y_k_plus = y_k -  lamb(k) * gradF_k(y_k, x, h, gamma(k))\n",
    "        \n",
    "        # Save it in the sequence (y_values)\n",
    "        y_values.append(y_k_plus)\n",
    "        \n",
    "        #Print to test algorithm\n",
    "        print(y_k_plus)\n",
    "        \n",
    "        # Check the convergence condition ||y_{k+1} - y_{k}|| < eps to stop the optimization\n",
    "        if np.linalg.norm(y_k_plus - y_k) < eps:\n",
    "            convergenceCondition = False\n",
    "            y_optimal = y_k_plus\n",
    "            print('Solution Obtained: y = ', y_optimal, '| Evaluation in h(y) =', h(y_optimal))\n",
    "            print('Number of iterations necessary to satisfy the condition ||y_{k+1}-y_{k}|| <', eps, 'are k =', k)\n",
    "        \n",
    "        elif np.linalg.norm(y_k_plus - y_k) > 10**10:\n",
    "            y_optimal = y_k_plus\n",
    "            print(\"Error: Algorithm diverges to infty\")\n",
    "            break\n",
    "\n",
    "    return y_optimal, y_values"
   ]
  },
  {
   "cell_type": "markdown",
   "id": "d4102cde-2737-42c6-8e8c-b09bc70a346c",
   "metadata": {},
   "source": [
    "### Testing AlgorithmApproach1 with an old setting with $x$ = [1.0, 11.0] given"
   ]
  },
  {
   "cell_type": "code",
   "execution_count": 5,
   "id": "2b797032-9967-47b8-a7e2-3432cf2594f4",
   "metadata": {
    "tags": []
   },
   "outputs": [
    {
     "name": "stdout",
     "output_type": "stream",
     "text": [
      "[  909.38362128 -3052.77887391]\n",
      "[3.97306964e+09 7.01034476e+10]\n",
      "Error: Algorithm diverges to infty\n"
     ]
    }
   ],
   "source": [
    "# Testing AlgorithmApproach1 with an old setting\n",
    "\n",
    "# Parameters\n",
    "n = 2\n",
    "m = 2\n",
    "eps = 0.001\n",
    "x_given = np.array([1.0,11.0])\n",
    "y_0 = np.array([7, 6])\n",
    "\n",
    "# Function \\gamma(k) goes to zero as k -> infty\n",
    "def gamma(k):\n",
    "    return (1.0 / (k+1))\n",
    "\n",
    "def lambda_fun(k):\n",
    "    return (1.0 / (k**2 + 1))\n",
    "\n",
    "# Parameters of the quadratic forms h_1(x) and h_3(x)\n",
    "A_1 = np.array([[-0.85738163, -0.6383691],\n",
    "              [-0.6383691 , 1.85738163]]) #has eigenvalues (-1,2)\n",
    "b_1 = np.array([1.0, -1.0])\n",
    "c_1 = -4.0\n",
    "\n",
    "A_3 = np.array([[-2.99282062, -0.18932872],\n",
    "                [-0.18932872, 1.99282062]]) #has eigenvalues (-3,2)\n",
    "b_3 = np.array([2.0,-7.0])\n",
    "c_3 = 50.0\n",
    "\n",
    "# Define new weakly convex restriction h_3(x)\n",
    "def h_1(x):\n",
    "    return h(x,A_1, b_1, c_1)\n",
    "\n",
    "def h_3(x):\n",
    "    return h(x,A_3, b_3, c_3)\n",
    "\n",
    "# Define h: R^2 -> R^{2} using h_1(x) and h_3(x)\n",
    "def h_function(x):\n",
    "    return np.array([h_1(x), h_3(x)])\n",
    "\n",
    "# Solve with trust-ncg method\n",
    "SolutionTrialApproach1, Seq_SolutionTrialApproach1= AlgorithmApproach1(x_given, y_0, h_function, gamma, lambda_fun, eps)"
   ]
  },
  {
   "cell_type": "markdown",
   "id": "8b1bce15-a760-48e9-a793-148f4cbb94b4",
   "metadata": {},
   "source": [
    "### Approach 2  \n",
    "Another alternative, could be:\n",
    "$$\n",
    "y_{k+1}=\\operatorname{argmin}_{y\\in \\mathbb{R}^n} \\left\\{ \\frac{1}{2}|| x-y||^2+\\frac{1}{2\\gamma_k}d_C^2(H(y;y_k))+\\beta || y-y_k||^2\\right\\},\n",
    "$$\n",
    "where $H(y;y_k):=h(y_k)+Dh(y_k)(y-y_k)$.\n",
    "\n",
    "**Tasks**: \n",
    "\n",
    "- To implement the above algorithms.\n",
    "- To generate the state of the art in composite models. "
   ]
  },
  {
   "cell_type": "markdown",
   "id": "0e526ee6-30d3-45a8-bc1a-81a5ccb7b95a",
   "metadata": {},
   "source": [
    "Let's consider \n",
    "\n",
    "$$(P_k) \\ \\min_{y \\in \\mathbb{R}^n} { \\frac{1}{2} || x-y||^2+\\frac{1}{2\\gamma_k}d_C^2(H(y;y_k))+\\beta || y-y_k||^2} $$\n",
    "\n",
    "We note that $(P_k)$ is an unrestricted convex optimization problem, this because given $x \\in \\mathbb{R}^{n}$, $\\frac{1}{2}||x - \\cdot||^{2}$ is convex for being the composition of $A_{x}(y) = x - y$ which is an affine function and the convex function $x \\to ||\\cdot||^{2}$, the same reasoning applies to $\\beta ||y-y_k||^{2}$.\n",
    "\n",
    "We consider $C$ a convex and close set and so $d_{C}^{2}(\\cdot)$ is convex for being the composition of the convex and increasing function $x \\to x^{2}$ and the function $d_{C}(x) = \\inf_{y \\in C} ||x-y||$ which turns out to be convex when C is closed and convex.\n",
    "\n",
    "And since $H_{y_k}(y) = h(y_k) + Dh(y_{k}) (y - y_k)$ is an affine function for $y$, then the composition $\\frac{1}{2\\gamma_k}d_{C}^{2} \\circ H_{y_{k}}$ is a convex function, and then $(P_k)$ is a convex optimization problem."
   ]
  },
  {
   "cell_type": "markdown",
   "id": "22d7ccee-dd53-4863-82f7-9d81e53a6f01",
   "metadata": {},
   "source": [
    "### Case C = $\\mathbb{R}_{-}^{m}$"
   ]
  },
  {
   "cell_type": "markdown",
   "id": "de2943f6-5291-43c7-8c81-1ee34e112ea2",
   "metadata": {},
   "source": [
    "**Observation:** If $C = \\mathbb{R}_{-}^{m}:= \\{x \\in R^{m}: x_{i} \\leq 0 \\ \\forall i= 1 ,\\cdots, m\\}$, then $C$ is closed and convex, moreover, if we define for a given $x \\in \\mathbb{R}^{m}$\n",
    "$$[x]_{+} = (\\max(0,x_i))_{i=1}^{m}$$\n",
    "$$[x]_{-} = (\\min(0,x_i))_{i=1}^{m}$$\n",
    "then we observe that \n",
    "$$\\operatorname{proj}_{\\mathbb{R}_{-}^{m}} (x) = [x]_{-}$$\n",
    "and\n",
    "$$d_{R_{-}^{m}}^{2}(x) = ||x - \\operatorname{proj}_{\\mathbb{R}_{-}^{m}} (x)||^{2} = || x - [x]_{-}||^{2} = || [x]_{+} ||^{2}$$\n",
    "\n",
    "In summary, we have\n",
    "$$ (1) \\ \\ \\operatorname{proj}_{\\mathbb{R}_{-}^{m}} (x) = [x]_{-} $$\n",
    "$$(2) \\ \\ d_{R_{-}^{m}}^{2}(x) = ||[x]_{+}||_{\\mathbb{R}^{m}}^{2} = \\sum_{i=1}^{m} max(0,x_i)^{2}$$\n",
    "\n",
    "And so the algorithm in this goes to the form\n",
    "\n",
    "$$\n",
    "y_{k+1}=\\operatorname{argmin}_{y\\in \\mathbb{R}^n} \\left\\{ \\frac{1}{2}|| x-y||^2+\\frac{1}{2\\gamma_k}|| [H(y;y_k))]_{+} ||_{\\mathbb{R}^{m}}^{2} +\\beta|| y-y_k||^2\\right\\},\n",
    "$$"
   ]
  },
  {
   "cell_type": "markdown",
   "id": "edb2331e-cd46-49a7-abb4-4a956097de77",
   "metadata": {},
   "source": [
    "### Auxiliary Functions"
   ]
  },
  {
   "cell_type": "markdown",
   "id": "63926156-9540-41c0-8052-3d310ff8731b",
   "metadata": {},
   "source": [
    "#### - Function: $H(y;y_k):=h(y_k)+Dh(y_k)(y-y_k)$ "
   ]
  },
  {
   "cell_type": "code",
   "execution_count": 6,
   "id": "fe7be459-313e-490c-a86c-09b554147078",
   "metadata": {},
   "outputs": [],
   "source": [
    "# Function H(y;y_k;h)\n",
    "def H(y,y_k,h):\n",
    "    \"\"\" \n",
    "    **Computes the affine function H(y, y_k) given the function h.**\n",
    "    Parameters:\n",
    "    - y (array): Optimization variable.\n",
    "    - y_k (array): Previous optimization variable.\n",
    "    - h (function): Function to evaluate h(y), must have as input an n-dimensional numpy array with output an m-dimensional numpy array.\n",
    "\n",
    "    Returns:\n",
    "    - array: Result of the affine function H(y, y_k). \n",
    "    \"\"\"\n",
    "    \n",
    "    # Define the diferential Dh(\\cdot) using autograd Jacobian approximation of the given h(x) function\n",
    "    Dh = ag.jacobian(h)\n",
    "    return h(y_k) + Dh(y_k) @ (y-y_k)"
   ]
  },
  {
   "cell_type": "markdown",
   "id": "8110752d-c5d2-4685-9b6e-340b3968f8b9",
   "metadata": {},
   "source": [
    "#### - Objective function $F_{k}(y) =  \\frac{1}{2} || x-y||^2 + \\frac{1}{2 \\gamma_k} || [H(y;y_k))]_{+} ||^{2} + \\beta|| y-y_k||^2$"
   ]
  },
  {
   "cell_type": "code",
   "execution_count": 7,
   "id": "baeb6afb-cad6-493b-a50d-e6d15ddb054f",
   "metadata": {},
   "outputs": [],
   "source": [
    "# Example of objective Function F_{k}(y)\n",
    "def F_k_module(y,x,h,y_k,gamma_k,beta):\n",
    "    \"\"\" \n",
    "    **Computes the objective function F_k(y) for a given iteration k.**\n",
    "\n",
    "    Parameters:\n",
    "    - y (array): Optimization variable.\n",
    "    - x (array): Input data for the optimization problem.\n",
    "    - h (function): Function to evaluate h(y).\n",
    "    - y_k (array): Previous optimization variable.\n",
    "    - gamma_k (float): Current gamma parameter.\n",
    "    - beta (float): Parameter for the optimization problem.\n",
    "\n",
    "    Returns:\n",
    "    - float: Result of the objective function F_k(y). \n",
    "    \"\"\"\n",
    "    \n",
    "    return 0.5 * (np.linalg.norm(x-y)**2) + (0.5/gamma_k)*(np.linalg.norm(positive_part(H(y,y_k,h)))**2) + beta*(np.linalg.norm(y-y_k)**2)"
   ]
  },
  {
   "cell_type": "markdown",
   "id": "4a428da0-a8a6-4e98-a486-79cd3af17f22",
   "metadata": {},
   "source": [
    "### Algorithm: Approach 2 for $C = \\mathbb{R}_{-}^m$"
   ]
  },
  {
   "cell_type": "markdown",
   "id": "79200756-cdd4-48b4-b204-86973ba09aab",
   "metadata": {},
   "source": [
    "#### Algorithm with Scipy (BFGS)"
   ]
  },
  {
   "cell_type": "code",
   "execution_count": 8,
   "id": "b1d148b7-6df6-4db9-a44d-4a74a256ed4e",
   "metadata": {},
   "outputs": [],
   "source": [
    "from scipy.optimize import minimize\n",
    "\n",
    "# Algorithm: Approach 2 for C = R_{-}^m with Scipy\n",
    "\n",
    "def AlgorithmApproach2_Scipy(n, x, y_0, h, beta, gamma, eps, method = \"BFGS\"):\n",
    "    \"\"\" \n",
    "    **Perform Approach 2 for solving the optimization problem C = R_{-}^m. using Scipy**\n",
    "\n",
    "    Parameters:\n",
    "    - n (int): Dimension of the optimization variable.\n",
    "    - x (array): Input data for the optimization problem, we expect x to be projected onto h^{-1}(C).\n",
    "    - y_0 (array): Initial guess for the optimization variable.\n",
    "    - h (function): Function to evaluate the optimization variable h(y) \\in C, must have input an n-dimensional numpy array with output an m-dimensional numpy array.\n",
    "    - beta (float): Parameter for the optimization problem.\n",
    "    - gamma (function): Function to calculate the gamma parameter.\n",
    "    - eps (float): Tolerance for stopping the optimization.\n",
    "    - method (str): Optimization method to use (default is \"BFGS\").\n",
    "\n",
    "    Returns:\n",
    "    - y_optimal (array): Optimized variable that minimizes the objective function.\n",
    "    - y_values (list): Sequence of optimized variables throughout the iterations.\n",
    "    \"\"\"\n",
    "    \n",
    "    # Auxiliary Functions\n",
    "    # Function [x]_{+} \n",
    "    def positive_part(x):\n",
    "        return np.maximum(0, x)\n",
    "    \n",
    "    # Function H(y;y_k) = h(y_k) + Dh(y_k) @ (y-y_k)\n",
    "    def H(y,y_k):\n",
    "        # Define the diferential Dh(\\cdot) using autograd Jacobian approximation of the given h(x) function\n",
    "        Dh = ag.jacobian(h)\n",
    "        return h(y_k) + Dh(y_k) @ (y-y_k)\n",
    "    \n",
    "    # Initial iteration\n",
    "    k = 0\n",
    "    convergenceCondition = True\n",
    "    \n",
    "    # Objective function of problem (P_0)\n",
    "    def F_k(y):\n",
    "        return 0.5 * (np.linalg.norm(x-y)**2) + (0.5/gamma(k))*(np.linalg.norm(positive_part(H(y,y_0)))**2) + beta*(np.linalg.norm(y-y_0)**2)\n",
    "        \n",
    "    # Initial guess for optimization\n",
    "    x_0 = np.random.uniform(-15, 15, size=(n,))\n",
    "        \n",
    "    # Solve problem (P_1), with Scipy, default is \"BFGS\"\n",
    "    P_k = minimize(F_k, x_0, method= method)\n",
    "        \n",
    "    # List to construct sequence (y_n)\n",
    "    y_values = [y_0]\n",
    "    \n",
    "    # Start iterating the algorithm\n",
    "    while convergenceCondition: \n",
    "        # Update the iteration counter\n",
    "        k += 1\n",
    "        \n",
    "        # Update y_{k} = y_{k+1}\n",
    "        y_k = P_k.x\n",
    "        \n",
    "        # Objective function of problem (P_k), solve (P_k) problem to obtain y_{k+1}\n",
    "        def F_k(y):\n",
    "            return 0.5 * np.linalg.norm(x-y)**2 + (0.5/gamma(k))* np.linalg.norm(positive_part(H(y,y_k)))**2 + beta * np.linalg.norm(y-y_k)**2\n",
    "        \n",
    "        # Initial guess for optimization\n",
    "        x_0 = np.random.uniform(-15, 15, size=(n,))\n",
    "        \n",
    "        # Solve problem (P_k) with Scipy, default is \"BFGS\"\n",
    "        P_k = minimize(F_k, x_0, method= method)\n",
    "        \n",
    "        # Obtain y_{k+1} and save it in the sequence (y_values)\n",
    "        y_k_plus = P_k.x\n",
    "        y_values.append(y_k_plus)\n",
    "        \n",
    "        # Check the convergence condition ||y_{k+1} - y_{k}|| < eps to stop the optimization\n",
    "        if np.linalg.norm(y_k_plus - y_k) < eps:\n",
    "            convergenceCondition = False\n",
    "\n",
    "    # Save last iteration as optimal\n",
    "    y_optimal = y_k_plus\n",
    "    print('Solution Obtained: y=', y_optimal, '| Evaluation in h(y) =', h(y_k_plus))\n",
    "    print('Number of iterations necessary to satisfy the condition ||y_{k+1}-y_{k}|| <', eps, 'are k =', k, 'with the optimization method:', method)\n",
    "    \n",
    "    # Check if solution satisfies being a feasible point in h^{-1}(C)\n",
    "    if all(i <= 0.1 for i in h(y_optimal)):\n",
    "        print(\"Solution found is: Feasible, lies into h^{-1}(C)\")\n",
    "    else:\n",
    "        print(\"Solution found is: Unfeasible, doesn´t lies into h^{-1}(C)\")\n",
    "        \n",
    "    return y_optimal, y_values"
   ]
  },
  {
   "cell_type": "markdown",
   "id": "1908556b-bcb7-4bfa-832a-28daf21629cb",
   "metadata": {
    "tags": []
   },
   "source": [
    "### Testing Algorithm Approach2 with Scipy with a random quadratic form weakly convex setting"
   ]
  },
  {
   "cell_type": "code",
   "execution_count": 9,
   "id": "69a411c6-4534-46ba-9862-2e55b78b7a20",
   "metadata": {},
   "outputs": [
    {
     "name": "stdout",
     "output_type": "stream",
     "text": [
      "x =  [3.3241307  3.26198252 1.21304888 1.03509422] & h(x) = [ 43.23649087  30.9178873  -47.97017451]\n"
     ]
    },
    {
     "name": "stderr",
     "output_type": "stream",
     "text": [
      "/home/fourier/anaconda3/lib/python3.11/site-packages/scipy/optimize/_hessian_update_strategy.py:182: UserWarning: delta_grad == 0.0. Check if the approximated function is linear. If the function is linear better results can be obtained by defining the Hessian as zero instead of using quasi-Newton approximations.\n",
      "  warn('delta_grad == 0.0. Check if the approximated '\n"
     ]
    },
    {
     "name": "stdout",
     "output_type": "stream",
     "text": [
      "Solution Obtained: y= [1.6629716  3.34047861 1.41094509 0.99941469] | Evaluation in h(y) = [ 5.95259255e-03  6.19016528e-04 -5.34367306e+01]\n",
      "Number of iterations necessary to satisfy the condition ||y_{k+1}-y_{k}|| < 0.05 are k = 12 with the optimization method: BFGS\n",
      "Solution found is: Feasible, lies into h^{-1}(C)\n"
     ]
    }
   ],
   "source": [
    "# Testing AlgorithmApproach2 with a random quadratic form setting\n",
    "\n",
    "# Parameters\n",
    "n = 4\n",
    "m = 3\n",
    "beta = 1\n",
    "eps = 0.05\n",
    "y_0 = np.random.uniform(-15, 15, size=(n,))\n",
    "\n",
    "# Function \\gamma(k) goes to zero as k -> infty\n",
    "def gamma(k):\n",
    "    return (1.0 / (k + 1) )\n",
    "\n",
    "# Random weakly convex h_function quadratic form\n",
    "h_function, constraint = generate_nonlinear_setting(n, m)\n",
    "\n",
    "if check_intersection_non_empty(constraint, n):\n",
    "    # Generate unfeasible point to be projected\n",
    "    x_given = find_x_given_multiple_restriction(h_function, n, m)\n",
    "    print(\"x = \", x_given, \"& h(x) =\", h_function(x_given))\n",
    "else:\n",
    "    print(\"Error! For this setting h^{-1}(C) is empty\")\n",
    "    \n",
    "# Solve using AlgorithmApproach2\n",
    "SolutionTrial, Seq_SolutionTrial = AlgorithmApproach2_Scipy(n, x_given, y_0, h_function, beta, gamma, eps)"
   ]
  },
  {
   "cell_type": "markdown",
   "id": "b7e9b01f-79d6-49ba-b47d-eceb1900073e",
   "metadata": {},
   "source": [
    "### Testing Algorithm Approach2 with Scipy in an old setting given $x$ = [1.0, 11.0] "
   ]
  },
  {
   "cell_type": "code",
   "execution_count": 10,
   "id": "8204fe58-263f-4ae7-8b96-d5a94b07f767",
   "metadata": {},
   "outputs": [
    {
     "name": "stdout",
     "output_type": "stream",
     "text": [
      "Solution Obtained: y= [6.1141501  7.32625981] | Evaluation in h(y) = [0.01383044 0.00507391]\n",
      "Number of iterations necessary to satisfy the condition ||y_{k+1}-y_{k}|| < 0.0001 are k = 23 with the optimization method: BFGS\n",
      "Solution found is: Feasible, lies into h^{-1}(C)\n"
     ]
    }
   ],
   "source": [
    "# Testing AlgorithmApproach2 with an old setting\n",
    "\n",
    "# Parameters\n",
    "n = 2\n",
    "m = 2\n",
    "x_given = np.array([1.0,11.0])\n",
    "y_0 = np.array([1.5, 13])\n",
    "beta = 1\n",
    "\n",
    "# Function \\gamma(k) goes to zero as k -> infty\n",
    "def gamma(k):\n",
    "    return (1.0 / (k+1))\n",
    "\n",
    "# Tolerance\n",
    "eps = 0.0001\n",
    "\n",
    "# Parameters of the quadratic forms h_1(x) and h_3(x)\n",
    "A_1 = np.array([[-0.85738163, -0.6383691],\n",
    "              [-0.6383691 , 1.85738163]]) #has eigenvalues (-1,2)\n",
    "b_1 = np.array([1.0, -1.0])\n",
    "c_1 = -4.0\n",
    "\n",
    "A_3 = np.array([[-2.99282062, -0.18932872],\n",
    "                [-0.18932872, 1.99282062]]) #has eigenvalues (-3,2)\n",
    "b_3 = np.array([2.0,-7.0])\n",
    "c_3 = 50.0\n",
    "\n",
    "# Define new weakly convex restriction h_3(x)\n",
    "def h_1(x):\n",
    "    return h(x,A_1, b_1, c_1)\n",
    "\n",
    "def h_3(x):\n",
    "    return h(x,A_3, b_3, c_3)\n",
    "\n",
    "# Define h: R^2 -> R^{2} using h_1(x) and h_3(x)\n",
    "def h_function(x):\n",
    "    return np.array([h_1(x), h_3(x)])\n",
    "\n",
    "# Solve with trust-ncg method\n",
    "SolutionTrial, Seq_SolutionTrial= AlgorithmApproach2_Scipy(n, x_given, y_0, h_function, beta, gamma, eps)"
   ]
  },
  {
   "cell_type": "markdown",
   "id": "de85c41d-1838-4326-98ae-32ac5a716cbc",
   "metadata": {},
   "source": [
    "### Projection onto $h^{-1}(\\mathbb{R}_{-}^{2})$ given $x = [1.0, 11.0]$, in this case $proj_{h^{-1}(C)} (x) = (6.11373177, 7.32423638)$ using Geogebra for Approach 2\n",
    "<img src=\"img/proj_R_minus_inter.png\" alt=\"Drawing\" style=\"width: 1000px;\"/>"
   ]
  },
  {
   "cell_type": "markdown",
   "id": "089369b4-c4ae-4767-90f5-e34c17b6b0aa",
   "metadata": {},
   "source": [
    "**Fact**: Projection into [h_w(x) < 0] given x = [ 1 11] is: [6.11373177 7.32423638]"
   ]
  },
  {
   "cell_type": "code",
   "execution_count": 11,
   "id": "5b42819a-c0a5-47a2-9ec0-630ced1b3e80",
   "metadata": {},
   "outputs": [
    {
     "data": {
      "image/png": "[encoded data removed]",
      "text/plain": [
       "<Figure size 640x480 with 1 Axes>"
      ]
     },
     "metadata": {},
     "output_type": "display_data"
    }
   ],
   "source": [
    "# Plot function to n = 2 case\n",
    "def plot_trajectory_plane(Seq_SolutionTrial, title):\n",
    "    # Extract x and y coordinates from the list of solutions\n",
    "    x_values = [point[0] for point in Seq_SolutionTrial]\n",
    "    y_values = [point[1] for point in Seq_SolutionTrial]\n",
    "\n",
    "    # Create the scatter plot with grid\n",
    "    plt.scatter(x_values, y_values, c='blue', marker='o', label='Trajectory')\n",
    "    plt.grid(True, linestyle='--', alpha=0.5)\n",
    "\n",
    "    # Highlight the final point of the trajectory\n",
    "    final_point = Seq_SolutionTrial[-1]\n",
    "    plt.scatter(final_point[0], final_point[1], c='red', marker='x', label='Final Point')\n",
    "\n",
    "    # Add labels with iteration numbers\n",
    "    for i, point in enumerate(Seq_SolutionTrial[:-1]):\n",
    "        plt.text(point[0], point[1], f'  k={i}', fontsize=8, color='black')\n",
    "        # Add arrows from k to k+1\n",
    "        plt.arrow(point[0], point[1], Seq_SolutionTrial[i+1][0] - point[0], Seq_SolutionTrial[i+1][1] - point[1],\n",
    "                  head_width=0.1, head_length=0.1, fc='black', ec='black')\n",
    "\n",
    "    # Labels and title of the plot\n",
    "    plt.xlabel('x')\n",
    "    plt.ylabel('y')\n",
    "    plt.title(title)\n",
    "    # Show legend\n",
    "    plt.legend()\n",
    "\n",
    "    # Show the plot\n",
    "    plt.show()\n",
    "\n",
    "# Using the function with Seq_SolutionTrial\n",
    "plot_trajectory_plane(Seq_SolutionTrial, \"Trajectory of the sequence $(y_k)_k$ given \" + \"y_0 = \" + str(y_0))"
   ]
  },
  {
   "cell_type": "markdown",
   "id": "14c9cb28-a9f1-49bc-84f2-eb1b5ae758b1",
   "metadata": {},
   "source": [
    "#### Algorithm Approach 2 with CVXPY (for convex-programming)"
   ]
  },
  {
   "cell_type": "code",
   "execution_count": 4,
   "id": "c74f8f29-e7ed-4528-bb3a-1c9b4d21e801",
   "metadata": {
    "tags": []
   },
   "outputs": [],
   "source": [
    "import cvxpy as cp\n",
    "\n",
    "def AlgorithmApproach2_CVXPY(n, x, y_0, h, beta, gamma, eps):\n",
    "    \"\"\" Perform Approach 2 for solving the optimization problem C = R_{-}^m using CVXPY.\n",
    "\n",
    "    Parameters:\n",
    "    - n (int): Dimension of the optimization variable.\n",
    "    - x (array): Input data for the optimization problem, expected to be projected onto h^{-1}(C).\n",
    "    - y_0 (array): Initial guess for the optimization variable.\n",
    "    - h (function): Function to evaluate the optimization variable h(y) in C.\n",
    "    - beta (float): Parameter for the optimization problem.\n",
    "    - gamma (function): Function to calculate the gamma parameter.\n",
    "    - eps (float): Tolerance for stopping the optimization.\n",
    "\n",
    "    Returns:\n",
    "    - y_optimal (array): Optimized variable that minimizes the objective function.\n",
    "    - y_values (list): Sequence of optimized variables throughout the iterations. \"\"\"\n",
    "    \n",
    "    # Initial iteration\n",
    "    k = 0\n",
    "    convergenceCondition = True\n",
    "    \n",
    "    # CVXPY variable for optimization\n",
    "    y = cp.Variable(n)\n",
    "    \n",
    "    # Define the differential Dh(\\cdot) using autograd Jacobian approximation of the given h(x) function\n",
    "    Dh = ag.jacobian(h)\n",
    "        \n",
    "    # Objective function\n",
    "    objective_initial = 0.5 * cp.sum_squares(x - y) + (0.5 / gamma(k)) * cp.sum_squares(cp.pos(h(y_0) + Dh(y_0) @ (y - y_0))) + beta * cp.sum_squares(y - y_0)\n",
    "\n",
    "    # Create the CVXPY problem\n",
    "    problem = cp.Problem(cp.Minimize(objective_initial))\n",
    "    \n",
    "    # Solve the CVXPY problem\n",
    "    problem.solve()\n",
    "    \n",
    "    # List to construct sequence (y_n)\n",
    "    y_values = [y_0]\n",
    "\n",
    "    # Solve the optimization problem until convergence\n",
    "    while convergenceCondition:\n",
    "        # Update the iteration counter\n",
    "        k += 1\n",
    "    \n",
    "        # Update y_{k} = y_{k+1} and \\gamma_k in each iteration\n",
    "        y_k = y.value\n",
    "        \n",
    "        # Update the objective function for the new iteration, cp.pos the is positive part\n",
    "        objective = 0.5 * cp.sum_squares(x - y) + (0.5 / gamma(k)) * cp.sum_squares(cp.pos(h(y_k) + Dh(y_k) @ (y - y_k))) + beta * cp.sum_squares(y - y_k)\n",
    "\n",
    "        # Update the CVXPY problem\n",
    "        problem = cp.Problem(cp.Minimize(objective))\n",
    "\n",
    "        # Solve the updated problem\n",
    "        problem.solve()\n",
    "\n",
    "        # Obtain y_{k+1} and save it in the sequence (y_values)\n",
    "        y_k_plus = y.value\n",
    "        y_values.append(y_k_plus)\n",
    "\n",
    "        # Check the convergence condition ||y_{k+1} - y_{k}|| < eps to stop the optimization\n",
    "        if np.linalg.norm(y_k_plus - y_k) < eps:\n",
    "            convergenceCondition = False\n",
    "\n",
    "    # Save last iteration as optimal\n",
    "    y_optimal = y_k_plus\n",
    "    print('Solution Obtained: y=', y_optimal, '| Evaluation in h(y) =', h(y_k_plus))\n",
    "    print('Number of iterations necessary to satisfy the condition ||y_{k+1}-y_{k}|| <', eps, 'are k = ', k)\n",
    "\n",
    "    # Check if solution satisfies being a feasible point in h^{-1}(C)\n",
    "    if all(i <= 0.01 for i in h(y_optimal)):\n",
    "        print(\"Solution found is: Feasible, lies into h^{-1}(C)\")\n",
    "    else:\n",
    "        print(\"Solution found is: Unfeasible, doesn´t lies into h^{-1}(C)\")\n",
    "        \n",
    "    return y_optimal, y_values"
   ]
  },
  {
   "cell_type": "code",
   "execution_count": 6,
   "id": "def9f8a7-1dd7-4881-bd47-948f6b447301",
   "metadata": {
    "tags": []
   },
   "outputs": [
    {
     "name": "stdout",
     "output_type": "stream",
     "text": [
      "================Test of Convexity:================\n",
      "Expression curvature = CONVEX\n",
      "Expression Sign = NONNEGATIVE\n",
      "Expression is DCP? True\n",
      "Solution Obtained: y= [6.11373401 7.32441258] | Evaluation in h(y) = [0.00146479 0.00053524]\n",
      "Number of iterations necessary to satisfy the condition ||y_{k+1}-y_{k}|| < 1e-06 are k =  226\n",
      "Solution found is: Feasible, lies into h^{-1}(C)\n"
     ]
    }
   ],
   "source": [
    "# Testing AlgorithmApproach2 with an old setting using CVXPY\n",
    "\n",
    "# Parameters\n",
    "n = 2\n",
    "m = 2\n",
    "beta = 0.1\n",
    "eps = 0.000001\n",
    "x_given = np.array([1.0,11.0])\n",
    "y_0 = np.array([100.0, 15.0])\n",
    "\n",
    "# Function \\gamma(k) goes to zero as k -> infty\n",
    "def gamma(k):\n",
    "    return (1.0 / (k + 1))\n",
    "\n",
    "# Parameters of the quadratic forms h_1(x) and h_3(x)\n",
    "A_1 = np.array([[-0.85738163, -0.6383691],\n",
    "              [-0.6383691 , 1.85738163]]) #has eigenvalues (-1,2)\n",
    "b_1 = np.array([1.0, -1.0])\n",
    "c_1 = -4.0\n",
    "\n",
    "A_3 = np.array([[-2.99282062, -0.18932872],\n",
    "                [-0.18932872, 1.99282062]]) #has eigenvalues (-3,2)\n",
    "b_3 = np.array([2.0,-7.0])\n",
    "c_3 = 50.0\n",
    "\n",
    "# Define new weakly convex restriction h_3(x)\n",
    "def h_1(x):\n",
    "    return h(x,A_1, b_1, c_1)\n",
    "\n",
    "def h_3(x):\n",
    "    return h(x,A_3, b_3, c_3)\n",
    "\n",
    "# Define h: R^2 -> R^{2} using h_1(x) and h_3(x)\n",
    "def h_function(x):\n",
    "    return np.array([h_1(x), h_3(x)])\n",
    "\n",
    "# Test to see if setting is convex for CVXPY\n",
    "\n",
    "y_test = cp.Variable(n)\n",
    "y_k_test = np.ones(n)\n",
    "Dh_test = ag.jacobian(h_function)\n",
    "gamma_k = gamma(2)\n",
    "\n",
    "objective = (0.5 * cp.sum_squares(x_given - y_test)) + (0.5 / gamma_k) * cp.sum_squares(cp.pos(h_function(y_k_test) + Dh_test(y_k_test) @ (y_test - y_k_test))) + beta * cp.sum_squares(y_test - y_k_test)\n",
    "\n",
    "# Print\n",
    "header = \"Test of Convexity:\"\n",
    "width = 50\n",
    "print(header.center(width, '='))\n",
    "print(\"Expression curvature =\", objective.curvature)\n",
    "print(\"Expression Sign =\", objective.sign)\n",
    "print(\"Expression is DCP?\", objective.is_dcp())\n",
    "\n",
    "# Solve\n",
    "SolutionTrialCVXPY, Seq_SolutionTrialCVXPY = AlgorithmApproach2_CVXPY(n, x_given, y_0, h_function, beta, gamma, eps)"
   ]
  },
  {
   "cell_type": "markdown",
   "id": "8d5d9cb6-5b1c-474b-816e-0cfa93e137b2",
   "metadata": {},
   "source": [
    "**Fact**: Projection into [h_w(x) < 0] given x = [ 1 11] is: [6.11373177 7.32423638]"
   ]
  },
  {
   "cell_type": "markdown",
   "id": "babf0761-5622-4af0-8962-b11ac532277e",
   "metadata": {},
   "source": [
    "#### Comentary: In approach 2, both Scipy and CVXPY solves the problem in that particular cases, approach 1 diverges to infinity, function $d_{C}(x)$ is not Lipschitz when $C = \\mathbb{R}_{-}^{m}$"
   ]
  },
  {
   "cell_type": "markdown",
   "id": "f63736f0-b168-422e-aea5-b2314506efb0",
   "metadata": {},
   "source": [
    "### Testing with the solutions of the composite problems\n",
    "\n",
    "We consider\n",
    "$$\n",
    "\\min_{y\\in \\mathcal{H}}\\frac{1}{2}\\Vert x-y\\Vert^2+\\frac{1}{2\\gamma}d_{C}^2(h(y)),\n",
    "$$\n",
    "as $\\gamma \\to 0$, for which, given $\\gamma > 0$, the solution $y_{\\gamma}$ satisfies\n",
    "\n",
    "$$\n",
    "\\|x-y_\\gamma\\|^2 + \\frac{1}{\\gamma}d_{C}^2(h(y_\\gamma))\\leq d_{h^{-1}(C)}^2(x)\n",
    "$$\n",
    "So, the cluster points of $(y_\\gamma)$ are minimizers of (1), then if (1) has only one solution, then $(y_\\gamma)$ converges to it since it is bounded.\n"
   ]
  },
  {
   "cell_type": "markdown",
   "id": "f5e0cf22-7039-4d17-a565-fc7b433755ea",
   "metadata": {},
   "source": [
    "We recall that \n",
    "$$d_{R_{-}^{m}}^{2}(x) = ||[x]_{+}||_{\\mathbb{R}^{m}}^{2} = \\sum_{i=1}^{m} max(0,x_i)^{2}$$"
   ]
  },
  {
   "cell_type": "markdown",
   "id": "17fd6ea9-74e4-4405-b5f2-c61b6befdf36",
   "metadata": {},
   "source": [
    "### Algorithm: Composite Sequence"
   ]
  },
  {
   "cell_type": "code",
   "execution_count": 14,
   "id": "69499b61-d816-4bf7-91c3-5731883e73cb",
   "metadata": {},
   "outputs": [],
   "source": [
    "from scipy.optimize import minimize\n",
    "\n",
    "# Algorithm: Composite Sequence\n",
    "\n",
    "def CompositeSequence(n, x, y_0, h, gamma, eps, method = \"BFGS\"):\n",
    "    \"\"\" \n",
    "    **Solve sequence of composite problems and return (y_gamma)**\n",
    "\n",
    "    Parameters:\n",
    "    - n (int): Dimension of the optimization variable.\n",
    "    - x (array): Input data for the optimization problem, we expect x to be projected onto h^{-1}(C).\n",
    "    - y_0 (array): Initial guess for the optimization variable.\n",
    "    - h (function): Function to evaluate the optimization variable h(y) \\in C, must have input an n-dimensional numpy array with output an m-dimensional numpy array.\n",
    "    - gamma (function): Function to calculate the gamma parameter.\n",
    "    - eps (float): Tolerance for stopping the optimization.\n",
    "    - method (str): Optimization method to use (default is \"BFGS\").\n",
    "\n",
    "    Returns:\n",
    "    - y_values (list): Sequence of optimized variables throughout the iterations.\n",
    "    \"\"\"\n",
    "    \n",
    "    # Auxiliary Functions\n",
    "    # Function [x]_{+} \n",
    "    def positive_part(x):\n",
    "        return np.maximum(0, x)\n",
    "    \n",
    "    # Initial iteration\n",
    "    k = 0\n",
    "    convergenceCondition = True\n",
    "    y_values = [y_0]\n",
    "    \n",
    "    # Objective function of problem (P_k), solve (P_k) problem to obtain y_{k+1}\n",
    "    def F_k(y):\n",
    "        return 0.5 * np.linalg.norm(x-y)**2 + (0.5/gamma(k))* np.linalg.norm(positive_part(h(y)))**2\n",
    "        \n",
    "    # Initial guess for optimization\n",
    "    x_0 = np.random.uniform(-15, 15, size=(n,))\n",
    "        \n",
    "    # Solve problem (P_k) with Scipy, default is \"BFGS\"\n",
    "    P_k = minimize(F_k, x_0, method= method)\n",
    "        \n",
    "    # Obtain y_{k} and save it in the sequence (y_values)\n",
    "    y_k = P_k.x\n",
    "    y_values.append(y_k)\n",
    "    \n",
    "    # Start iterating the algorithm\n",
    "    while convergenceCondition: \n",
    "        # Update the iteration counter\n",
    "        k += 1\n",
    "        \n",
    "        # Objective function of problem (P_k), solve (P_k) problem to obtain y_{k+1}\n",
    "        def F_k(y):\n",
    "            return 0.5 * np.linalg.norm(x-y)**2 + (0.5/gamma(k))* np.linalg.norm(positive_part(h(y)))**2\n",
    "        \n",
    "        # Initial guess for optimization\n",
    "        x_0 = np.random.uniform(-15, 15, size=(n,))\n",
    "        \n",
    "        # Solve problem (P_k) with Scipy, default is \"BFGS\"\n",
    "        P_k = minimize(F_k, x_0, method= method)\n",
    "        \n",
    "        # Obtain y_{k} and save it in the sequence (y_values)\n",
    "        y_k = P_k.x\n",
    "        y_values.append(y_k)\n",
    "        \n",
    "        # Check if the convergence condition ||y_{k+1} - y_{k}|| < eps to stop the optimization\n",
    "        if np.linalg.norm(y_values[-1] - y_values[-2]) < eps:\n",
    "            convergenceCondition = False\n",
    "            print('Solution Obtained: y=', y_values[-1], '| Evaluation in h(y) =', h(y_values[-1]))\n",
    "            print('Number of iterations necessary to satisfy the condition ||y_{k+1}-y_{k}|| <', eps, 'are k =', k, 'with the optimization method:', method)\n",
    "            \n",
    "            # Check if solution satisfies being a feasible point in h^{-1}(C)\n",
    "            if all(i <= 0.01 for i in h(y_values[-1])):\n",
    "                print(\"Solution found is: Feasible, lies into h^{-1}(C)\")\n",
    "            else:\n",
    "                print(\"Solution found is: Unfeasible, doesn´t lies into h^{-1}(C)\")\n",
    "        \n",
    "        # If sequence is not converging, then break while condition\n",
    "        elif k > 1000:\n",
    "            break\n",
    "        \n",
    "    return y_values"
   ]
  },
  {
   "cell_type": "markdown",
   "id": "68a9d77d-9518-47ab-8996-ec151dc58317",
   "metadata": {},
   "source": [
    "### Testing Composite Sequence Algorithm"
   ]
  },
  {
   "cell_type": "code",
   "execution_count": 15,
   "id": "f552d518-ac78-4487-9d70-f5edb2f0ab98",
   "metadata": {},
   "outputs": [
    {
     "name": "stdout",
     "output_type": "stream",
     "text": [
      "Solution Obtained: y= [6.11383816 7.32487414] | Evaluation in h(y) = [0.00455249 0.00166562]\n",
      "Number of iterations necessary to satisfy the condition ||y_{k+1}-y_{k}|| < 1e-05 are k = 72 with the optimization method: BFGS\n",
      "Solution found is: Feasible, lies into h^{-1}(C)\n"
     ]
    },
    {
     "data": {
      "image/png": "[encoded data removed]",
      "text/plain": [
       "<Figure size 640x480 with 1 Axes>"
      ]
     },
     "metadata": {},
     "output_type": "display_data"
    }
   ],
   "source": [
    "# Parameters\n",
    "n = 2\n",
    "m = 2\n",
    "eps = 0.00001\n",
    "x_given = np.array([1.0,11.0])\n",
    "y_0 = np.array([10.0, 11.0])\n",
    "\n",
    "# Function \\gamma(k) goes to zero as k -> infty\n",
    "def gamma(k):\n",
    "    return 1.0 / (k + 1)\n",
    "\n",
    "# Parameters of the quadratic forms h_1(x) and h_3(x)\n",
    "A_1 = np.array([[-0.85738163, -0.6383691],\n",
    "              [-0.6383691 , 1.85738163]]) #has eigenvalues (-1,2)\n",
    "b_1 = np.array([1.0, -1.0])\n",
    "c_1 = -4.0\n",
    "\n",
    "A_3 = np.array([[-2.99282062, -0.18932872],\n",
    "                [-0.18932872, 1.99282062]]) #has eigenvalues (-3,2)\n",
    "b_3 = np.array([2.0,-7.0])\n",
    "c_3 = 50.0\n",
    "\n",
    "# Define new weakly convex restriction h_3(x)\n",
    "def h_1(x):\n",
    "    return h(x,A_1, b_1, c_1)\n",
    "\n",
    "def h_3(x):\n",
    "    return h(x,A_3, b_3, c_3)\n",
    "\n",
    "# Define h: R^2 -> R^{2} using h_1(x) and h_3(x)\n",
    "def h_function(x):\n",
    "    return np.array([h_1(x), h_3(x)])\n",
    "\n",
    "# Obtaing sequence (y_gamma) given the function gamma(k)\n",
    "y_values = CompositeSequence(n, x_given, y_0, h_function, gamma, eps, method = \"BFGS\")\n",
    "\n",
    "# Plotting the sequence (y_gamma)\n",
    "plot_trajectory_plane(y_values, \"Trajectory of the sequence $(y_k)_k$ given \" + \"y_0 = \" + str(y_0))"
   ]
  },
  {
   "cell_type": "code",
   "execution_count": 16,
   "id": "f85ae70a-5a06-4536-bcae-a53936d65253",
   "metadata": {},
   "outputs": [],
   "source": [
    "# Printing the sequence\n",
    "#print(y_values)"
   ]
  },
  {
   "cell_type": "markdown",
   "id": "0edbcbf2-98cc-4cb8-afce-8e65a741c93a",
   "metadata": {},
   "source": [
    "**Commentary:** Sequence appears to have clusters point $(-4.58906004,  3.44470446)$ and $(6.11405734, 7.32584738)$, but in this case, given $x = (1,11)$ the solution is unique and is $(6.11405734, 7.32584738)$"
   ]
  },
  {
   "cell_type": "code",
   "execution_count": 17,
   "id": "1d10465c-9edf-4040-9b99-a2f4931a8ab0",
   "metadata": {},
   "outputs": [
    {
     "name": "stdout",
     "output_type": "stream",
     "text": [
      "Distance: ||x-proj|| =  6.297061215508449\n",
      "Distance: ||x-(-4.5890,  3.4447)|| =  9.39787650628953\n"
     ]
    }
   ],
   "source": [
    "# Checking uniqueness\n",
    "proj = np.array([6.11405734, 7.32584738])\n",
    "false_proj = np.array([-4.58906004,  3.44470446])\n",
    "print(\"Distance: ||x-proj|| = \" , np.linalg.norm(x_given - proj))\n",
    "print(\"Distance: ||x-(-4.5890,  3.4447)|| = \", np.linalg.norm(x_given - false_proj))"
   ]
  },
  {
   "cell_type": "markdown",
   "id": "fc489fe6-777a-4ea3-a265-284894f91365",
   "metadata": {},
   "source": [
    "### Recall: Projection onto $h^{-1}(\\mathbb{R}_{-}^{2})$ given $x = (1.0, 11.0)$, in this case $proj_{h^{-1}(C)} (x) = (6.11373177, 7.32423638)$ and the point (-4.58906004,  3.44470446) using Geogebra for Approach 2\n",
    "<img src=\"img/false_proj.png\" alt=\"Drawing\" style=\"width: 1000px;\"/>"
   ]
  }
 ],
 "metadata": {
  "kernelspec": {
   "display_name": "Python 3 (ipykernel)",
   "language": "python",
   "name": "python3"
  },
  "language_info": {
   "codemirror_mode": {
    "name": "ipython",
    "version": 3
   },
   "file_extension": ".py",
   "mimetype": "text/x-python",
   "name": "python",
   "nbconvert_exporter": "python",
   "pygments_lexer": "ipython3",
   "version": "3.11.5"
  }
 },
 "nbformat": 4,
 "nbformat_minor": 5
}
